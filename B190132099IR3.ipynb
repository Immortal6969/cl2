{
 "cells": [
  {
   "cell_type": "code",
   "execution_count": 12,
   "id": "d2884ae2-dc4a-49cf-8854-f5c2a99bc53c",
   "metadata": {},
   "outputs": [],
   "source": [
    "import pandas as pd, numpy as np\n",
    "from sklearn.svm import SVC\n",
    "from sklearn.model_selection import train_test_split\n",
    "from sklearn.feature_extraction.text import CountVectorizer\n",
    "from sklearn.preprocessing import LabelEncoder"
   ]
  },
  {
   "cell_type": "code",
   "execution_count": 14,
   "id": "da895b99-eda1-4c55-b67f-050e4c3ede42",
   "metadata": {},
   "outputs": [
    {
     "name": "stdout",
     "output_type": "stream",
     "text": [
      "        v1                                                 v2\n",
      "0      ham  Go until jurong point, crazy.. Available only ...\n",
      "1      ham                      Ok lar... Joking wif u oni...\n",
      "2     spam  Free entry in 2 a wkly comp to win FA Cup fina...\n",
      "3      ham  U dun say so early hor... U c already then say...\n",
      "4      ham  Nah I don't think he goes to usf, he lives aro...\n",
      "...    ...                                                ...\n",
      "5566  spam  This is the 2nd time we have tried 2 contact u...\n",
      "5567   ham              Will �_ b going to esplanade fr home?\n",
      "5568   ham  Pity, * was in mood for that. So...any other s...\n",
      "5569   ham  The guy did some bitching but I acted like i'd...\n",
      "5570   ham                         Rofl. Its true to its name\n",
      "\n",
      "[5571 rows x 2 columns]\n"
     ]
    }
   ],
   "source": [
    "df = pd.read_csv(\"spam.csv\")\n",
    "df = df.iloc[:, :2]\n",
    "print(df)"
   ]
  },
  {
   "cell_type": "code",
   "execution_count": 15,
   "id": "93d00f40-1591-4098-9b98-79a0f9fe9b74",
   "metadata": {},
   "outputs": [
    {
     "name": "stdout",
     "output_type": "stream",
     "text": [
      "v1    0\n",
      "v2    1\n",
      "dtype: int64\n"
     ]
    }
   ],
   "source": [
    "print(df.isnull().sum())\n",
    "df.dropna(inplace=True)"
   ]
  },
  {
   "cell_type": "code",
   "execution_count": 16,
   "id": "2b4fbdee-60b7-4f41-93f1-6b58361768ad",
   "metadata": {},
   "outputs": [],
   "source": [
    "cv = CountVectorizer()\n",
    "labelenc = LabelEncoder()"
   ]
  },
  {
   "cell_type": "code",
   "execution_count": 17,
   "id": "d9ff54e3-6b94-4e96-9b66-49aaf4a17c8f",
   "metadata": {},
   "outputs": [],
   "source": [
    "# Apply CountVectorizer to the 'v2' column (assuming it contains text data)\n",
    "# to generate features for each data point in your DataFrame\n",
    "x = cv.fit_transform(df['v2'])  # Changed from ['v2df'] to df['v2']\n",
    "y = labelenc.fit_transform(df['v1'])\n",
    "X_train, X_test, y_train, y_test = train_test_split(x, y, test_size=0.25, random_state=42)"
   ]
  },
  {
   "cell_type": "code",
   "execution_count": 18,
   "id": "a9b4910a-bc43-4c63-be56-f9a888af184e",
   "metadata": {},
   "outputs": [],
   "source": [
    "model = SVC()"
   ]
  },
  {
   "cell_type": "code",
   "execution_count": 19,
   "id": "af78fec8-02cd-4f06-87ff-793151da18ab",
   "metadata": {},
   "outputs": [
    {
     "data": {
      "text/plain": [
       "0.9763101220387652"
      ]
     },
     "execution_count": 19,
     "metadata": {},
     "output_type": "execute_result"
    }
   ],
   "source": [
    "model.fit(X_train, y_train) # Changed from x_train to X_train\n",
    "model.score(X_test, y_test) # Changed from x_test to X_test"
   ]
  },
  {
   "cell_type": "code",
   "execution_count": 20,
   "id": "69802e48-ea15-4ff8-96ea-199cfc4eb44d",
   "metadata": {},
   "outputs": [
    {
     "data": {
      "text/plain": [
       "'spam'"
      ]
     },
     "execution_count": 20,
     "metadata": {},
     "output_type": "execute_result"
    }
   ],
   "source": [
    "email = cv.transform(['Congratulations!!!, You won Lottery of $1500000000 just now, just click on following link https://lottery.com/claim to claim your prize money'])\n",
    "labelenc.classes_[svc.predict(email)[0]]"
   ]
  },
  {
   "cell_type": "code",
   "execution_count": null,
   "id": "05274759-f37d-49c0-a294-116506638380",
   "metadata": {},
   "outputs": [],
   "source": []
  }
 ],
 "metadata": {
  "kernelspec": {
   "display_name": "Python 3 (ipykernel)",
   "language": "python",
   "name": "python3"
  },
  "language_info": {
   "codemirror_mode": {
    "name": "ipython",
    "version": 3
   },
   "file_extension": ".py",
   "mimetype": "text/x-python",
   "name": "python",
   "nbconvert_exporter": "python",
   "pygments_lexer": "ipython3",
   "version": "3.11.7"
  }
 },
 "nbformat": 4,
 "nbformat_minor": 5
}
